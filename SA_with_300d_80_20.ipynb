{
  "nbformat": 4,
  "nbformat_minor": 0,
  "metadata": {
    "colab": {
      "name": "SA with 300d 80/20.ipynb",
      "provenance": [],
      "collapsed_sections": [],
      "authorship_tag": "ABX9TyOrr+5n+KNaod8n3esU+XnI",
      "include_colab_link": true
    },
    "kernelspec": {
      "name": "python3",
      "display_name": "Python 3"
    }
  },
  "cells": [
    {
      "cell_type": "markdown",
      "metadata": {
        "id": "view-in-github",
        "colab_type": "text"
      },
      "source": [
        "<a href=\"https://colab.research.google.com/github/Nilufayeasmin299/Covid19-twitter-data-analysis-using-80-20-sploting-techniques/blob/main/SA_with_300d_80_20.ipynb\" target=\"_parent\"><img src=\"https://colab.research.google.com/assets/colab-badge.svg\" alt=\"Open In Colab\"/></a>"
      ]
    },
    {
      "cell_type": "code",
      "metadata": {
        "colab": {
          "base_uri": "https://localhost:8080/"
        },
        "id": "G07tlJ6LH3ES",
        "outputId": "392c47b2-ed53-4ccc-815e-788f5d332ccc"
      },
      "source": [
        "from google.colab import drive\n",
        "drive.mount('/content/gdrive')"
      ],
      "execution_count": null,
      "outputs": [
        {
          "output_type": "stream",
          "text": [
            "Mounted at /content/gdrive\n"
          ],
          "name": "stdout"
        }
      ]
    },
    {
      "cell_type": "code",
      "metadata": {
        "id": "6XzSyhz-H6zI"
      },
      "source": [
        "import pandas as pd"
      ],
      "execution_count": null,
      "outputs": []
    },
    {
      "cell_type": "code",
      "metadata": {
        "colab": {
          "base_uri": "https://localhost:8080/",
          "height": 289
        },
        "id": "EeS7ECQ0II5X",
        "outputId": "d5f2dcdc-6a45-4aa4-dd95-9a1c59262af8"
      },
      "source": [
        "#Read csv file\n",
        "df=pd.read_csv('/content/gdrive/My Drive/project for paper /dataset/tencities_15days_april.csv')\n",
        "df.head()"
      ],
      "execution_count": null,
      "outputs": [
        {
          "output_type": "execute_result",
          "data": {
            "text/html": [
              "<div>\n",
              "<style scoped>\n",
              "    .dataframe tbody tr th:only-of-type {\n",
              "        vertical-align: middle;\n",
              "    }\n",
              "\n",
              "    .dataframe tbody tr th {\n",
              "        vertical-align: top;\n",
              "    }\n",
              "\n",
              "    .dataframe thead th {\n",
              "        text-align: right;\n",
              "    }\n",
              "</style>\n",
              "<table border=\"1\" class=\"dataframe\">\n",
              "  <thead>\n",
              "    <tr style=\"text-align: right;\">\n",
              "      <th></th>\n",
              "      <th>twitteDate</th>\n",
              "      <th>tweet_id</th>\n",
              "      <th>created_at</th>\n",
              "      <th>text</th>\n",
              "      <th>loc</th>\n",
              "      <th>user_id</th>\n",
              "      <th>verified</th>\n",
              "      <th>CleanedText</th>\n",
              "      <th>Subjectivity</th>\n",
              "      <th>Polarity</th>\n",
              "      <th>Analysis</th>\n",
              "    </tr>\n",
              "  </thead>\n",
              "  <tbody>\n",
              "    <tr>\n",
              "      <th>0</th>\n",
              "      <td>2020-04-01</td>\n",
              "      <td>1245138809454395392</td>\n",
              "      <td>2020-04-01 00:00:00+00:00</td>\n",
              "      <td>thebsimone during corona stay clean fuck free ...</td>\n",
              "      <td>CA</td>\n",
              "      <td>u282394</td>\n",
              "      <td>0</td>\n",
              "      <td>thebsimon corona stay clean fuck free manit ki...</td>\n",
              "      <td>0.733333</td>\n",
              "      <td>-0.005556</td>\n",
              "      <td>Negative</td>\n",
              "    </tr>\n",
              "    <tr>\n",
              "      <th>1</th>\n",
              "      <td>2020-04-01</td>\n",
              "      <td>1245138809920126983</td>\n",
              "      <td>2020-04-01 00:00:00+00:00</td>\n",
              "      <td>balance joining fight against corona turning s...</td>\n",
              "      <td>CA</td>\n",
              "      <td>u460114</td>\n",
              "      <td>0</td>\n",
              "      <td>balanc join fight corona turn shoe product med...</td>\n",
              "      <td>0.000000</td>\n",
              "      <td>0.000000</td>\n",
              "      <td>Neutral</td>\n",
              "    </tr>\n",
              "    <tr>\n",
              "      <th>2</th>\n",
              "      <td>2020-04-01</td>\n",
              "      <td>1245138828622471168</td>\n",
              "      <td>2020-04-01 00:00:04+00:00</td>\n",
              "      <td>tory lanez asked young thug been staying coron...</td>\n",
              "      <td>WA</td>\n",
              "      <td>u127769</td>\n",
              "      <td>0</td>\n",
              "      <td>tori lanez ask young thug stay coronafre respo...</td>\n",
              "      <td>0.400000</td>\n",
              "      <td>0.100000</td>\n",
              "      <td>Positive</td>\n",
              "    </tr>\n",
              "    <tr>\n",
              "      <th>3</th>\n",
              "      <td>2020-04-01</td>\n",
              "      <td>1245138837057216518</td>\n",
              "      <td>2020-04-01 00:00:06+00:00</td>\n",
              "      <td>hasanthehun donald trump already trying spin c...</td>\n",
              "      <td>FL</td>\n",
              "      <td>u457103</td>\n",
              "      <td>0</td>\n",
              "      <td>hasanthehun donald trump alreadi tri spin coro...</td>\n",
              "      <td>0.000000</td>\n",
              "      <td>0.000000</td>\n",
              "      <td>Neutral</td>\n",
              "    </tr>\n",
              "    <tr>\n",
              "      <th>4</th>\n",
              "      <td>2020-04-01</td>\n",
              "      <td>1245138844766416896</td>\n",
              "      <td>2020-04-01 00:00:08+00:00</td>\n",
              "      <td>ghastly corona found into life affected family...</td>\n",
              "      <td>TX</td>\n",
              "      <td>u616396</td>\n",
              "      <td>0</td>\n",
              "      <td>ghast corona found life affect famili lost ano...</td>\n",
              "      <td>0.000000</td>\n",
              "      <td>0.000000</td>\n",
              "      <td>Neutral</td>\n",
              "    </tr>\n",
              "  </tbody>\n",
              "</table>\n",
              "</div>"
            ],
            "text/plain": [
              "   twitteDate             tweet_id  ...  Polarity  Analysis\n",
              "0  2020-04-01  1245138809454395392  ... -0.005556  Negative\n",
              "1  2020-04-01  1245138809920126983  ...  0.000000   Neutral\n",
              "2  2020-04-01  1245138828622471168  ...  0.100000  Positive\n",
              "3  2020-04-01  1245138837057216518  ...  0.000000   Neutral\n",
              "4  2020-04-01  1245138844766416896  ...  0.000000   Neutral\n",
              "\n",
              "[5 rows x 11 columns]"
            ]
          },
          "metadata": {
            "tags": []
          },
          "execution_count": 3
        }
      ]
    },
    {
      "cell_type": "markdown",
      "metadata": {
        "id": "dYpCngjRIaWi"
      },
      "source": [
        "\n",
        "**Let's now see the distribution of sentiments across all the tweets**"
      ]
    },
    {
      "cell_type": "code",
      "metadata": {
        "colab": {
          "base_uri": "https://localhost:8080/",
          "height": 265
        },
        "id": "tdEPy78wILIy",
        "outputId": "fce760af-2717-47b7-a4ec-9749c6ca0069"
      },
      "source": [
        "df.Analysis.value_counts().plot(kind='pie', autopct='%1.0f%%', colors=[\"red\", \"yellow\", \"green\"])"
      ],
      "execution_count": null,
      "outputs": [
        {
          "output_type": "execute_result",
          "data": {
            "text/plain": [
              "<matplotlib.axes._subplots.AxesSubplot at 0x7f80d9b56668>"
            ]
          },
          "metadata": {
            "tags": []
          },
          "execution_count": 4
        },
        {
          "output_type": "display_data",
          "data": {
            "image/png": "[encoded data removed]",
            "text/plain": [
              "<Figure size 432x288 with 1 Axes>"
            ]
          },
          "metadata": {
            "tags": []
          }
        }
      ]
    },
    {
      "cell_type": "code",
      "metadata": {
        "colab": {
          "base_uri": "https://localhost:8080/"
        },
        "id": "ec3Mv2bqIgeV",
        "outputId": "108279a8-9111-4f08-ffaf-00e430e7e0bf"
      },
      "source": [
        "df.columns"
      ],
      "execution_count": null,
      "outputs": [
        {
          "output_type": "execute_result",
          "data": {
            "text/plain": [
              "Index(['twitteDate', 'tweet_id', 'created_at', 'text', 'loc', 'user_id',\n",
              "       'verified', 'CleanedText', 'Subjectivity', 'Polarity', 'Analysis'],\n",
              "      dtype='object')"
            ]
          },
          "metadata": {
            "tags": []
          },
          "execution_count": 5
        }
      ]
    },
    {
      "cell_type": "markdown",
      "metadata": {
        "id": "lhHlWFUjIoDK"
      },
      "source": [
        "**We will perform only sentiment analysis so we drop all columns except Cleanedtext and Analysis columns**"
      ]
    },
    {
      "cell_type": "code",
      "metadata": {
        "id": "gznL6X8xIjm7"
      },
      "source": [
        "data=df.drop(['twitteDate','tweet_id','created_at','text','loc','user_id','verified','Subjectivity','Polarity'],axis=1)"
      ],
      "execution_count": null,
      "outputs": []
    },
    {
      "cell_type": "code",
      "metadata": {
        "colab": {
          "base_uri": "https://localhost:8080/",
          "height": 204
        },
        "id": "amcMj2b8IsBN",
        "outputId": "3abec3eb-7930-4d32-d1a0-f26e68f53cfd"
      },
      "source": [
        "data.head()"
      ],
      "execution_count": null,
      "outputs": [
        {
          "output_type": "execute_result",
          "data": {
            "text/html": [
              "<div>\n",
              "<style scoped>\n",
              "    .dataframe tbody tr th:only-of-type {\n",
              "        vertical-align: middle;\n",
              "    }\n",
              "\n",
              "    .dataframe tbody tr th {\n",
              "        vertical-align: top;\n",
              "    }\n",
              "\n",
              "    .dataframe thead th {\n",
              "        text-align: right;\n",
              "    }\n",
              "</style>\n",
              "<table border=\"1\" class=\"dataframe\">\n",
              "  <thead>\n",
              "    <tr style=\"text-align: right;\">\n",
              "      <th></th>\n",
              "      <th>CleanedText</th>\n",
              "      <th>Analysis</th>\n",
              "    </tr>\n",
              "  </thead>\n",
              "  <tbody>\n",
              "    <tr>\n",
              "      <th>0</th>\n",
              "      <td>thebsimon corona stay clean fuck free manit ki...</td>\n",
              "      <td>Negative</td>\n",
              "    </tr>\n",
              "    <tr>\n",
              "      <th>1</th>\n",
              "      <td>balanc join fight corona turn shoe product med...</td>\n",
              "      <td>Neutral</td>\n",
              "    </tr>\n",
              "    <tr>\n",
              "      <th>2</th>\n",
              "      <td>tori lanez ask young thug stay coronafre respo...</td>\n",
              "      <td>Positive</td>\n",
              "    </tr>\n",
              "    <tr>\n",
              "      <th>3</th>\n",
              "      <td>hasanthehun donald trump alreadi tri spin coro...</td>\n",
              "      <td>Neutral</td>\n",
              "    </tr>\n",
              "    <tr>\n",
              "      <th>4</th>\n",
              "      <td>ghast corona found life affect famili lost ano...</td>\n",
              "      <td>Neutral</td>\n",
              "    </tr>\n",
              "  </tbody>\n",
              "</table>\n",
              "</div>"
            ],
            "text/plain": [
              "                                         CleanedText  Analysis\n",
              "0  thebsimon corona stay clean fuck free manit ki...  Negative\n",
              "1  balanc join fight corona turn shoe product med...   Neutral\n",
              "2  tori lanez ask young thug stay coronafre respo...  Positive\n",
              "3  hasanthehun donald trump alreadi tri spin coro...   Neutral\n",
              "4  ghast corona found life affect famili lost ano...   Neutral"
            ]
          },
          "metadata": {
            "tags": []
          },
          "execution_count": 7
        }
      ]
    },
    {
      "cell_type": "code",
      "metadata": {
        "colab": {
          "base_uri": "https://localhost:8080/"
        },
        "id": "FmWc95h_IuNe",
        "outputId": "416c2c9c-5516-40d1-e588-b761426ac89b"
      },
      "source": [
        "data.shape"
      ],
      "execution_count": null,
      "outputs": [
        {
          "output_type": "execute_result",
          "data": {
            "text/plain": [
              "(823002, 2)"
            ]
          },
          "metadata": {
            "tags": []
          },
          "execution_count": 8
        }
      ]
    },
    {
      "cell_type": "code",
      "metadata": {
        "id": "eI27VGAGIx0c"
      },
      "source": [
        "#importing all necessary libraries \n",
        "from numpy import array\n",
        "from numpy import asarray\n",
        "from numpy import zeros\n",
        "from keras.layers.core import Dense, Dropout\n",
        "from keras.layers.convolutional import Conv1D\n",
        "from keras.layers.embeddings import Embedding\n",
        "from keras.layers.pooling import GlobalMaxPooling1D\n",
        "from keras.models import Sequential\n",
        "from keras import regularizers\n",
        "from keras.preprocessing.sequence import pad_sequences"
      ],
      "execution_count": null,
      "outputs": []
    },
    {
      "cell_type": "code",
      "metadata": {
        "colab": {
          "base_uri": "https://localhost:8080/"
        },
        "id": "dvjN0xbCI1fj",
        "outputId": "a7687717-9268-4053-fa1d-0a10fd00c92a"
      },
      "source": [
        "#Here we make our X value which will then be fitted to scikit learning training test split model\n",
        "X= data['CleanedText'].values\n",
        "X.shape"
      ],
      "execution_count": null,
      "outputs": [
        {
          "output_type": "execute_result",
          "data": {
            "text/plain": [
              "(823002,)"
            ]
          },
          "metadata": {
            "tags": []
          },
          "execution_count": 10
        }
      ]
    },
    {
      "cell_type": "code",
      "metadata": {
        "id": "XAmq9SyeI3uX"
      },
      "source": [
        "# Creat the function to get label of the dataset\n",
        "def getSentiment(Analysis):\n",
        "    if Analysis== 'Negative':\n",
        "        return 0\n",
        "    elif Analysis == 'Positive':\n",
        "        return 1\n",
        "    else:\n",
        "      return 2\n",
        "data['Sentiment']=data['Analysis'].apply(getSentiment)"
      ],
      "execution_count": null,
      "outputs": []
    },
    {
      "cell_type": "code",
      "metadata": {
        "colab": {
          "base_uri": "https://localhost:8080/",
          "height": 204
        },
        "id": "VneI0pk-I7QV",
        "outputId": "6a479eb1-0d34-4240-b1d5-9dabb84df7d7"
      },
      "source": [
        "data.head()"
      ],
      "execution_count": null,
      "outputs": [
        {
          "output_type": "execute_result",
          "data": {
            "text/html": [
              "<div>\n",
              "<style scoped>\n",
              "    .dataframe tbody tr th:only-of-type {\n",
              "        vertical-align: middle;\n",
              "    }\n",
              "\n",
              "    .dataframe tbody tr th {\n",
              "        vertical-align: top;\n",
              "    }\n",
              "\n",
              "    .dataframe thead th {\n",
              "        text-align: right;\n",
              "    }\n",
              "</style>\n",
              "<table border=\"1\" class=\"dataframe\">\n",
              "  <thead>\n",
              "    <tr style=\"text-align: right;\">\n",
              "      <th></th>\n",
              "      <th>CleanedText</th>\n",
              "      <th>Analysis</th>\n",
              "      <th>Sentiment</th>\n",
              "    </tr>\n",
              "  </thead>\n",
              "  <tbody>\n",
              "    <tr>\n",
              "      <th>0</th>\n",
              "      <td>thebsimon corona stay clean fuck free manit ki...</td>\n",
              "      <td>Negative</td>\n",
              "      <td>0</td>\n",
              "    </tr>\n",
              "    <tr>\n",
              "      <th>1</th>\n",
              "      <td>balanc join fight corona turn shoe product med...</td>\n",
              "      <td>Neutral</td>\n",
              "      <td>2</td>\n",
              "    </tr>\n",
              "    <tr>\n",
              "      <th>2</th>\n",
              "      <td>tori lanez ask young thug stay coronafre respo...</td>\n",
              "      <td>Positive</td>\n",
              "      <td>1</td>\n",
              "    </tr>\n",
              "    <tr>\n",
              "      <th>3</th>\n",
              "      <td>hasanthehun donald trump alreadi tri spin coro...</td>\n",
              "      <td>Neutral</td>\n",
              "      <td>2</td>\n",
              "    </tr>\n",
              "    <tr>\n",
              "      <th>4</th>\n",
              "      <td>ghast corona found life affect famili lost ano...</td>\n",
              "      <td>Neutral</td>\n",
              "      <td>2</td>\n",
              "    </tr>\n",
              "  </tbody>\n",
              "</table>\n",
              "</div>"
            ],
            "text/plain": [
              "                                         CleanedText  Analysis  Sentiment\n",
              "0  thebsimon corona stay clean fuck free manit ki...  Negative          0\n",
              "1  balanc join fight corona turn shoe product med...   Neutral          2\n",
              "2  tori lanez ask young thug stay coronafre respo...  Positive          1\n",
              "3  hasanthehun donald trump alreadi tri spin coro...   Neutral          2\n",
              "4  ghast corona found life affect famili lost ano...   Neutral          2"
            ]
          },
          "metadata": {
            "tags": []
          },
          "execution_count": 12
        }
      ]
    },
    {
      "cell_type": "code",
      "metadata": {
        "colab": {
          "base_uri": "https://localhost:8080/"
        },
        "id": "VvIOd3w1I9bE",
        "outputId": "57a22cad-7423-4ed8-d0a9-058899c7a808"
      },
      "source": [
        "y= data['Sentiment'].values\n",
        "y.shape"
      ],
      "execution_count": null,
      "outputs": [
        {
          "output_type": "execute_result",
          "data": {
            "text/plain": [
              "(823002,)"
            ]
          },
          "metadata": {
            "tags": []
          },
          "execution_count": 13
        }
      ]
    },
    {
      "cell_type": "code",
      "metadata": {
        "id": "W9qgS0ToJAd1"
      },
      "source": [
        "# spliting the dataset into train and test\n",
        "\n",
        "\n",
        "from sklearn.model_selection import train_test_split\n",
        "\n",
        "X_train, X_test, y_train, y_test = train_test_split(X, y, test_size=0.20, random_state=42)"
      ],
      "execution_count": null,
      "outputs": []
    },
    {
      "cell_type": "code",
      "metadata": {
        "colab": {
          "base_uri": "https://localhost:8080/"
        },
        "id": "45dZbLRbJEVR",
        "outputId": "d2475df5-5e6a-47c2-d0c0-028e5bdf5512"
      },
      "source": [
        "print(X_train.shape, X_test.shape, y_train.shape, y_test.shape)"
      ],
      "execution_count": null,
      "outputs": [
        {
          "output_type": "stream",
          "text": [
            "(658401,) (164601,) (658401,) (164601,)\n"
          ],
          "name": "stdout"
        }
      ]
    },
    {
      "cell_type": "markdown",
      "metadata": {
        "id": "KG3WQLkkJQbl"
      },
      "source": [
        "**Preparing the Embedding Layer**"
      ]
    },
    {
      "cell_type": "code",
      "metadata": {
        "id": "Ml7NhEAHJMIw"
      },
      "source": [
        "from keras.preprocessing.text import Tokenizer\n",
        "# we will use the 'Tokenizer' class from the 'keras.preprocessing.text' module to create a word-to-index dictionary.\n",
        "tokenizer = Tokenizer(num_words=5000)\n",
        "tokenizer.fit_on_texts(X_train)\n",
        "\n",
        "X_train = tokenizer.texts_to_sequences(X_train)\n",
        "X_test = tokenizer.texts_to_sequences(X_test)"
      ],
      "execution_count": null,
      "outputs": []
    },
    {
      "cell_type": "code",
      "metadata": {
        "id": "yBodqbIeJU1m"
      },
      "source": [
        "# Adding 1 because of reserved 0 index\n",
        "vocab_size = len(tokenizer.word_index) + 1\n",
        "\n",
        "maxlen = 500\n",
        "\n",
        "X_train = pad_sequences(X_train, padding='post', maxlen=maxlen)\n",
        "X_test = pad_sequences(X_test, padding='post', maxlen=maxlen)"
      ],
      "execution_count": null,
      "outputs": []
    },
    {
      "cell_type": "code",
      "metadata": {
        "id": "bRRD5G5LJY3C"
      },
      "source": [
        "embeddings_dictionary = dict()\n",
        "glove_file = open('/content/gdrive/My Drive/project for paper /dataset/glove.6B.300d.txt', encoding=\"utf8\")\n",
        "for line in glove_file:\n",
        "    records = line.split()\n",
        "    word = records[0]\n",
        "    vector_dimensions = asarray(records[1:], dtype='float32')\n",
        "    embeddings_dictionary [word] = vector_dimensions\n",
        "glove_file.close()"
      ],
      "execution_count": null,
      "outputs": []
    },
    {
      "cell_type": "code",
      "metadata": {
        "id": "SV5upT4-JbtU"
      },
      "source": [
        "embedding_matrix = zeros((vocab_size, 300))\n",
        "for word, index in tokenizer.word_index.items():\n",
        "    embedding_vector = embeddings_dictionary.get(word)\n",
        "    if embedding_vector is not None:\n",
        "        embedding_matrix[index] = embedding_vector"
      ],
      "execution_count": null,
      "outputs": []
    },
    {
      "cell_type": "markdown",
      "metadata": {
        "id": "UrKb3RD8JxvC"
      },
      "source": [
        "**Bulid LTSM model for text classification**"
      ]
    },
    {
      "cell_type": "code",
      "metadata": {
        "id": "82sfIA3JJthT"
      },
      "source": [
        "num_labels = 3\n",
        "from keras.layers import LSTM\n",
        "#Defining LTSM model:\n",
        "model = Sequential()\n",
        "embedding_layer = Embedding(vocab_size, 300, weights=[embedding_matrix], input_length=maxlen , trainable=False)\n",
        "model.add(embedding_layer)\n",
        "\n",
        "model.add(LSTM(50))\n",
        "model.add(Dense(num_labels, activation='softmax'))\n",
        "\n",
        "model.compile(optimizer='adam', loss='sparse_categorical_crossentropy', metrics=['acc'])"
      ],
      "execution_count": null,
      "outputs": []
    },
    {
      "cell_type": "code",
      "metadata": {
        "colab": {
          "base_uri": "https://localhost:8080/"
        },
        "id": "weX43S-TJ2ex",
        "outputId": "cb5fdceb-761a-4951-87c3-7585d30952fb"
      },
      "source": [
        "model.summary()"
      ],
      "execution_count": null,
      "outputs": [
        {
          "output_type": "stream",
          "text": [
            "Model: \"sequential_1\"\n",
            "_________________________________________________________________\n",
            "Layer (type)                 Output Shape              Param #   \n",
            "=================================================================\n",
            "embedding_1 (Embedding)      (None, 500, 300)          109565100 \n",
            "_________________________________________________________________\n",
            "lstm_1 (LSTM)                (None, 50)                70200     \n",
            "_________________________________________________________________\n",
            "dense_1 (Dense)              (None, 3)                 153       \n",
            "=================================================================\n",
            "Total params: 109,635,453\n",
            "Trainable params: 70,353\n",
            "Non-trainable params: 109,565,100\n",
            "_________________________________________________________________\n"
          ],
          "name": "stdout"
        }
      ]
    },
    {
      "cell_type": "code",
      "metadata": {
        "id": "O1arGktbJ5sR"
      },
      "source": [
        "BATCH_SIZE = 128"
      ],
      "execution_count": null,
      "outputs": []
    },
    {
      "cell_type": "markdown",
      "metadata": {
        "id": "o3-muNf1KADz"
      },
      "source": [
        "**Fit LTSM model**"
      ]
    },
    {
      "cell_type": "code",
      "metadata": {
        "colab": {
          "base_uri": "https://localhost:8080/"
        },
        "id": "ipz0aRixKJt8",
        "outputId": "5a79aa4a-7814-4cb5-97b8-b49628cd1b7e"
      },
      "source": [
        "history = model.fit(X_train, y_train, batch_size=BATCH_SIZE, epochs=1, validation_split=0.2)"
      ],
      "execution_count": null,
      "outputs": [
        {
          "output_type": "stream",
          "text": [
            "4115/4115 [==============================] - 3546s 861ms/step - loss: 0.9332 - acc: 0.6166 - val_loss: 0.9303 - val_acc: 0.6174\n"
          ],
          "name": "stdout"
        }
      ]
    },
    {
      "cell_type": "code",
      "metadata": {
        "id": "cQYlaMVNK2NJ"
      },
      "source": [
        "y_pred=model.predict(X_test)"
      ],
      "execution_count": null,
      "outputs": []
    },
    {
      "cell_type": "code",
      "metadata": {
        "colab": {
          "base_uri": "https://localhost:8080/"
        },
        "id": "a_z8z7Hsbncl",
        "outputId": "dee51e4e-549e-4056-f85d-ebca3e19a66b"
      },
      "source": [
        "from sklearn import metrics\n",
        "score = metrics.log_loss(y_test, y_pred)\n",
        "print(\"Log loss score: {}\".format(score))"
      ],
      "execution_count": null,
      "outputs": [
        {
          "output_type": "stream",
          "text": [
            "Log loss score: 0.9273054022143595\n"
          ],
          "name": "stdout"
        }
      ]
    },
    {
      "cell_type": "code",
      "metadata": {
        "id": "f6Mgr9uobqlY"
      },
      "source": [
        "import numpy as np\n",
        "y_pred = np.argmax(y_pred,axis=1)"
      ],
      "execution_count": null,
      "outputs": []
    },
    {
      "cell_type": "code",
      "metadata": {
        "colab": {
          "base_uri": "https://localhost:8080/"
        },
        "id": "ZlbLACqGbtfP",
        "outputId": "e191dd77-1073-47b6-c792-ed8a72f966ab"
      },
      "source": [
        "from sklearn.metrics import confusion_matrix\n",
        "confusion_matrix(y_test, y_pred)\n",
        "from sklearn.metrics import classification_report\n",
        "print(classification_report(y_test,y_pred))"
      ],
      "execution_count": null,
      "outputs": [
        {
          "output_type": "stream",
          "text": [
            "              precision    recall  f1-score   support\n",
            "\n",
            "           0       0.00      0.00      0.00     28850\n",
            "           1       0.00      0.00      0.00     33672\n",
            "           2       0.62      1.00      0.77    102079\n",
            "\n",
            "    accuracy                           0.62    164601\n",
            "   macro avg       0.21      0.33      0.26    164601\n",
            "weighted avg       0.38      0.62      0.47    164601\n",
            "\n"
          ],
          "name": "stdout"
        },
        {
          "output_type": "stream",
          "text": [
            "/usr/local/lib/python3.6/dist-packages/sklearn/metrics/_classification.py:1272: UndefinedMetricWarning: Precision and F-score are ill-defined and being set to 0.0 in labels with no predicted samples. Use `zero_division` parameter to control this behavior.\n",
            "  _warn_prf(average, modifier, msg_start, len(result))\n"
          ],
          "name": "stderr"
        }
      ]
    },
    {
      "cell_type": "markdown",
      "metadata": {
        "id": "JVB2XCUzdcoM"
      },
      "source": [
        "**Build CNN model for sentiment analysis**"
      ]
    },
    {
      "cell_type": "code",
      "metadata": {
        "id": "z8dK0w7AdT1q"
      },
      "source": [
        "#Defining CNN model\n",
        "model = Sequential()\n",
        "\n",
        "embedding_layer = Embedding(vocab_size, 300, weights=[embedding_matrix], input_length=maxlen , trainable=False)\n",
        "model.add(embedding_layer)\n",
        "\n",
        "model.add(Conv1D(128, 5, activation='relu'))\n",
        "model.add(GlobalMaxPooling1D())\n",
        "\n",
        "model.add(Dense(num_labels, activation='softmax'))\n",
        "model.compile(optimizer='adam', loss='sparse_categorical_crossentropy', metrics=['acc'])"
      ],
      "execution_count": null,
      "outputs": []
    },
    {
      "cell_type": "code",
      "metadata": {
        "colab": {
          "base_uri": "https://localhost:8080/"
        },
        "id": "-teQ77QWdl23",
        "outputId": "6e1ac5d2-d6da-46d8-b9a4-86bf32683203"
      },
      "source": [
        "model.summary()"
      ],
      "execution_count": null,
      "outputs": [
        {
          "output_type": "stream",
          "text": [
            "Model: \"sequential_3\"\n",
            "_________________________________________________________________\n",
            "Layer (type)                 Output Shape              Param #   \n",
            "=================================================================\n",
            "embedding_3 (Embedding)      (None, 500, 300)          109565100 \n",
            "_________________________________________________________________\n",
            "conv1d (Conv1D)              (None, 496, 128)          192128    \n",
            "_________________________________________________________________\n",
            "global_max_pooling1d (Global (None, 128)               0         \n",
            "_________________________________________________________________\n",
            "dense_2 (Dense)              (None, 3)                 387       \n",
            "=================================================================\n",
            "Total params: 109,757,615\n",
            "Trainable params: 192,515\n",
            "Non-trainable params: 109,565,100\n",
            "_________________________________________________________________\n"
          ],
          "name": "stdout"
        }
      ]
    },
    {
      "cell_type": "markdown",
      "metadata": {
        "id": "DRGym3SKduVC"
      },
      "source": [
        "**Fit CNN model**"
      ]
    },
    {
      "cell_type": "code",
      "metadata": {
        "colab": {
          "base_uri": "https://localhost:8080/"
        },
        "id": "jvUzlmEhdrag",
        "outputId": "9c3ff0dd-dcfe-416b-9e10-97e0dc4ea059"
      },
      "source": [
        "#Let's now train our model:\n",
        "history = model.fit(X_train, y_train, batch_size=BATCH_SIZE, epochs=2, validation_split=0.2)"
      ],
      "execution_count": null,
      "outputs": [
        {
          "output_type": "stream",
          "text": [
            "Epoch 1/2\n",
            "4115/4115 [==============================] - 4687s 1s/step - loss: 0.2420 - acc: 0.9185 - val_loss: 0.0713 - val_acc: 0.9834\n",
            "Epoch 2/2\n",
            "4115/4115 [==============================] - 4685s 1s/step - loss: 0.0520 - acc: 0.9884 - val_loss: 0.0637 - val_acc: 0.9856\n"
          ],
          "name": "stdout"
        }
      ]
    },
    {
      "cell_type": "code",
      "metadata": {
        "id": "trSXAlpjd1AC"
      },
      "source": [
        "y_pred=model.predict(X_test)"
      ],
      "execution_count": null,
      "outputs": []
    },
    {
      "cell_type": "code",
      "metadata": {
        "colab": {
          "base_uri": "https://localhost:8080/"
        },
        "id": "nuQP5oto_p7g",
        "outputId": "33ae19d8-55f0-4de7-9596-02d1481f9d36"
      },
      "source": [
        "from sklearn import metrics\n",
        "score = metrics.log_loss(y_test, y_pred)\n",
        "print(\"Log loss score: {}\".format(score))"
      ],
      "execution_count": null,
      "outputs": [
        {
          "output_type": "stream",
          "text": [
            "Log loss score: 0.0621934305867885\n"
          ],
          "name": "stdout"
        }
      ]
    },
    {
      "cell_type": "code",
      "metadata": {
        "id": "AFogMLIM_sLC"
      },
      "source": [
        "import numpy as np\n",
        "y_pred = np.argmax(y_pred,axis=1) "
      ],
      "execution_count": null,
      "outputs": []
    },
    {
      "cell_type": "code",
      "metadata": {
        "colab": {
          "base_uri": "https://localhost:8080/"
        },
        "id": "PYVhHee5_vhX",
        "outputId": "c600cfc2-ccc1-4589-f429-157d55d24802"
      },
      "source": [
        "from sklearn.metrics import confusion_matrix\n",
        "confusion_matrix(y_test, y_pred)\n",
        "from sklearn.metrics import classification_report\n",
        "print(classification_report(y_test,y_pred))"
      ],
      "execution_count": null,
      "outputs": [
        {
          "output_type": "stream",
          "text": [
            "              precision    recall  f1-score   support\n",
            "\n",
            "           0       0.99      0.96      0.97     28850\n",
            "           1       0.98      0.98      0.98     33672\n",
            "           2       0.99      1.00      0.99    102079\n",
            "\n",
            "    accuracy                           0.99    164601\n",
            "   macro avg       0.99      0.98      0.98    164601\n",
            "weighted avg       0.99      0.99      0.99    164601\n",
            "\n"
          ],
          "name": "stdout"
        }
      ]
    },
    {
      "cell_type": "code",
      "metadata": {
        "id": "4X89_h4_ELIe"
      },
      "source": [
        ""
      ],
      "execution_count": null,
      "outputs": []
    }
  ]
}